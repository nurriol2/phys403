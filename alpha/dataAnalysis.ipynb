{
 "cells": [
  {
   "cell_type": "code",
   "execution_count": 1,
   "metadata": {},
   "outputs": [],
   "source": [
    "#!/usr/bin/env python3\n",
    "\n",
    "import matplotlib.pyplot as plt\n",
    "import numpy as np\n",
    "import os\n",
    "from scipy.stats import norm\n",
    "\n",
    "import logging\n",
    "logging.basicConfig(level = logging.DEBUG, format = '%(asctime)s - %(levelname)s - %(message)s')\n",
    "\n",
    "%run generalized_open"
   ]
  },
  {
   "cell_type": "code",
   "execution_count": 2,
   "metadata": {},
   "outputs": [],
   "source": [
    "def pull_file_info(user_file):\n",
    "    \n",
    "    import re\n",
    "\n",
    "\n",
    "    pressure_regex = re.compile(r'\\d{2,}m{2}Hg')\n",
    "    distance_regex = re.compile(r'(\\d+\\.\\d)cm')\n",
    "    gas_regex_notAir = re.compile(r'[A,a]rgon|[H,h]elium')\n",
    "    \n",
    "    pressure_match = pressure_regex.search(user_file)\n",
    "    pressure_units = pressure_match.group()\n",
    "    pressure = pressure_units.strip('mmHg')\n",
    "    pressure = int(pressure)\n",
    "    \n",
    "    distance_match = distance_regex.search(user_file)\n",
    "    distance = distance_match.group()\n",
    "    \n",
    "    gas_match = gas_regex_notAir.search(user_file)\n",
    "    \n",
    "    if gas_match == None:\n",
    "        gas = 'Air'\n",
    "    else:\n",
    "        gas = gas_match.group()\n",
    "    \n",
    "    console_result = 'gas: %s \\ndistance = %s \\npressure = %s'%(gas, distance, pressure_units)\n",
    "    \n",
    "    print(console_result)\n",
    "    \n",
    "    return (gas, distance, pressure)\n"
   ]
  },
  {
   "cell_type": "code",
   "execution_count": 3,
   "metadata": {},
   "outputs": [],
   "source": [
    "def calibration_curve(x):\n",
    "    return x * 0.013863 + (-0.313343)\n"
   ]
  },
  {
   "cell_type": "code",
   "execution_count": 4,
   "metadata": {},
   "outputs": [],
   "source": [
    "def particle_energy(user_dir, user_file):\n",
    "    \n",
    "    (gas, distance, pressure) = pull_file_info(user_file)\n",
    "    \n",
    "    raw_data = my_open(user_dir, user_file)\n",
    "    \n",
    "    #list of signal + noise counts\n",
    "    count_data = raw_data[12:len(raw_data) - 1]\n",
    "\n",
    "    #array of signal + noise counts recorded in data file\n",
    "    signal_and_noise = np.array(count_data, dtype = int)\n",
    "    \n",
    "    #educated guess based on height of outermost peaks surrounding maxima\n",
    "    threshold = 7\n",
    "    \n",
    "    signal = []\n",
    "    \n",
    "    #strip noise based on threshold\n",
    "    for dataPoint in signal_and_noise:\n",
    "        if dataPoint > threshold:\n",
    "            signal.append(dataPoint)\n",
    "        else:\n",
    "            signal.append(0)\n",
    "            \n",
    "    signal = np.array(signal, dtype = int)\n",
    "    \n",
    "    #largest count recorded\n",
    "    max_amplitude = np.amax(signal)\n",
    "    \n",
    "    #index of maxima \n",
    "    mean_adjustment = np.argmax(signal)\n",
    "    \n",
    "    #calculate mean and standard deviation of the counts\n",
    "    mean, std_dev = norm.fit(signal)\n",
    "    \n",
    "    channel = mean + mean_adjustment\n",
    "    \n",
    "    pcl_energy = calibration_curve(channel)\n",
    "    \n",
    "    downstream_channel = channel + std_dev\n",
    "    \n",
    "    downstream_energy = calibration_curve(downstream_channel)\n",
    "    \n",
    "    pcl_energy_error = downstream_energy - pcl_energy \n",
    "    \n",
    "    \n",
    "    print('particle energy:  %f (MeV)' %pcl_energy)\n",
    "    print('particle energy error:  %f (MeV)' %pcl_energy_error)\n",
    "    \n",
    "    \n",
    "    return (pcl_energy, pcl_energy_error, gas, distance, pressure)"
   ]
  },
  {
   "cell_type": "code",
   "execution_count": 5,
   "metadata": {},
   "outputs": [
    {
     "name": "stderr",
     "output_type": "stream",
     "text": [
      "2019-02-20 15:59:36,668 - DEBUG - file_path = /Users/nikourriola/Desktop/sp19/phys403/alpha/height_spectra_air/data_9.4cm_50mmHg.mca\n",
      "2019-02-20 15:59:36,680 - DEBUG - file_path = /Users/nikourriola/Desktop/sp19/phys403/alpha/height_spectra_air/data_9.4cm_300mmHg.mca\n",
      "2019-02-20 15:59:36,690 - DEBUG - file_path = /Users/nikourriola/Desktop/sp19/phys403/alpha/height_spectra_air/data_11.4cm_300mmHg.mca\n",
      "2019-02-20 15:59:36,695 - DEBUG - file_path = /Users/nikourriola/Desktop/sp19/phys403/alpha/height_spectra_air/data_11.4cm_120mmHg.mca\n",
      "2019-02-20 15:59:36,723 - DEBUG - file_path = /Users/nikourriola/Desktop/sp19/phys403/alpha/height_spectra_air/data_13.4cm_377mmHg.mca\n",
      "2019-02-20 15:59:36,726 - DEBUG - file_path = /Users/nikourriola/Desktop/sp19/phys403/alpha/height_spectra_air/data_9.4cm_120mmHg.mca\n",
      "2019-02-20 15:59:36,737 - DEBUG - file_path = /Users/nikourriola/Desktop/sp19/phys403/alpha/height_spectra_air/data_11.4cm_337mmHg.mca\n",
      "2019-02-20 15:59:36,743 - DEBUG - file_path = /Users/nikourriola/Desktop/sp19/phys403/alpha/height_spectra_air/data_9.4cm_260mmHg.mca\n",
      "2019-02-20 15:59:36,754 - DEBUG - file_path = /Users/nikourriola/Desktop/sp19/phys403/alpha/height_spectra_air/data_11.4cm_260mmHg.mca\n",
      "2019-02-20 15:59:36,763 - DEBUG - file_path = /Users/nikourriola/Desktop/sp19/phys403/alpha/height_spectra_air/data_9.4cm_337mmHg.mca\n",
      "2019-02-20 15:59:36,765 - DEBUG - file_path = /Users/nikourriola/Desktop/sp19/phys403/alpha/height_spectra_air/data_13.4cm_300mmHg.mca\n",
      "2019-02-20 15:59:36,771 - DEBUG - file_path = /Users/nikourriola/Desktop/sp19/phys403/alpha/height_spectra_air/data_11.4cm_377mmHg.mca\n",
      "2019-02-20 15:59:36,785 - DEBUG - file_path = /Users/nikourriola/Desktop/sp19/phys403/alpha/height_spectra_air/data_13.4cm_50mmHg.mca\n",
      "2019-02-20 15:59:36,788 - DEBUG - file_path = /Users/nikourriola/Desktop/sp19/phys403/alpha/height_spectra_air/data_9.4cm_220mmHg.mca\n",
      "2019-02-20 15:59:36,799 - DEBUG - file_path = /Users/nikourriola/Desktop/sp19/phys403/alpha/height_spectra_air/data_13.4cm_120mmHg.mca\n",
      "2019-02-20 15:59:36,813 - DEBUG - file_path = /Users/nikourriola/Desktop/sp19/phys403/alpha/height_spectra_air/data_9.4cm_377mmHg.mca\n",
      "2019-02-20 15:59:36,827 - DEBUG - file_path = /Users/nikourriola/Desktop/sp19/phys403/alpha/height_spectra_air/data_13.4cm_260mmHg.mca\n",
      "2019-02-20 15:59:36,845 - DEBUG - file_path = /Users/nikourriola/Desktop/sp19/phys403/alpha/height_spectra_air/data_13.4cm_337mmHg.mca\n",
      "2019-02-20 15:59:36,869 - DEBUG - file_path = /Users/nikourriola/Desktop/sp19/phys403/alpha/height_spectra_air/data_11.4cm_50mmHg.mca\n"
     ]
    },
    {
     "name": "stdout",
     "output_type": "stream",
     "text": [
      "gas: Air \n",
      "distance = 9.4cm \n",
      "pressure = 50mmHg\n",
      "particle energy:  -0.170435 (MeV)\n",
      "particle energy error:  0.057533 (MeV)\n",
      "gas: Air \n",
      "distance = 9.4cm \n",
      "pressure = 300mmHg\n",
      "particle energy:  -0.145376 (MeV)\n",
      "particle energy error:  0.023157 (MeV)\n",
      "gas: Air \n",
      "distance = 11.4cm \n",
      "pressure = 300mmHg\n",
      "particle energy:  13.426555 (MeV)\n",
      "particle energy error:  0.017524 (MeV)\n",
      "gas: Air \n",
      "distance = 11.4cm \n",
      "pressure = 120mmHg\n",
      "particle energy:  -0.146621 (MeV)\n",
      "particle energy error:  0.006771 (MeV)\n",
      "gas: Air \n",
      "distance = 13.4cm \n",
      "pressure = 377mmHg\n",
      "particle energy:  5.801052 (MeV)\n",
      "particle energy error:  0.010843 (MeV)\n",
      "gas: Air \n",
      "distance = 9.4cm \n",
      "pressure = 120mmHg\n",
      "particle energy:  -0.171653 (MeV)\n",
      "particle energy error:  0.041706 (MeV)\n",
      "gas: Air \n",
      "distance = 11.4cm \n",
      "pressure = 337mmHg\n",
      "particle energy:  12.613512 (MeV)\n",
      "particle energy error:  0.034726 (MeV)\n",
      "gas: Air \n",
      "distance = 9.4cm \n",
      "pressure = 260mmHg\n",
      "particle energy:  -0.144956 (MeV)\n",
      "particle energy error:  0.027068 (MeV)\n",
      "gas: Air \n",
      "distance = 11.4cm \n",
      "pressure = 260mmHg\n",
      "particle energy:  -0.313343 (MeV)\n",
      "particle energy error:  0.000000 (MeV)\n",
      "gas: Air \n",
      "distance = 9.4cm \n",
      "pressure = 337mmHg\n",
      "particle energy:  12.613512 (MeV)\n",
      "particle energy error:  0.034726 (MeV)\n",
      "gas: Air \n",
      "distance = 13.4cm \n",
      "pressure = 300mmHg\n",
      "particle energy:  9.960941 (MeV)\n",
      "particle energy error:  0.016185 (MeV)\n",
      "gas: Air \n",
      "distance = 11.4cm \n",
      "pressure = 377mmHg\n",
      "particle energy:  11.518403 (MeV)\n",
      "particle energy error:  0.036172 (MeV)\n",
      "gas: Air \n",
      "distance = 13.4cm \n",
      "pressure = 50mmHg\n",
      "particle energy:  -0.313343 (MeV)\n",
      "particle energy error:  0.000000 (MeV)\n",
      "gas: Air \n",
      "distance = 9.4cm \n",
      "pressure = 220mmHg\n",
      "particle energy:  -0.158332 (MeV)\n",
      "particle energy error:  0.032535 (MeV)\n",
      "gas: Air \n",
      "distance = 13.4cm \n",
      "pressure = 120mmHg\n",
      "particle energy:  -0.313343 (MeV)\n",
      "particle energy error:  0.000000 (MeV)\n",
      "gas: Air \n",
      "distance = 9.4cm \n",
      "pressure = 377mmHg\n",
      "particle energy:  -0.159469 (MeV)\n",
      "particle energy error:  0.019852 (MeV)\n",
      "gas: Air \n",
      "distance = 13.4cm \n",
      "pressure = 260mmHg\n",
      "particle energy:  11.791628 (MeV)\n",
      "particle energy error:  0.020110 (MeV)\n",
      "gas: Air \n",
      "distance = 13.4cm \n",
      "pressure = 337mmHg\n",
      "particle energy:  5.814983 (MeV)\n",
      "particle energy error:  0.010760 (MeV)\n",
      "gas: Air \n",
      "distance = 11.4cm \n",
      "pressure = 50mmHg\n",
      "particle energy:  -0.173589 (MeV)\n",
      "particle energy error:  0.016702 (MeV)\n"
     ]
    },
    {
     "data": {
      "image/png": "[encoded data removed]",
      "text/plain": [
       "<matplotlib.figure.Figure at 0x1a1add27f0>"
      ]
     },
     "metadata": {},
     "output_type": "display_data"
    }
   ],
   "source": [
    "#air data sets\n",
    "air_height_spectra = os.path.abspath('height_spectra_air')\n",
    "\n",
    "energy_squared_air_list = []\n",
    "pressure_list = []\n",
    "\n",
    "\n",
    "for root, dirs, files in os.walk(air_height_spectra):\n",
    "    for dataSet in files:\n",
    "        summary = particle_energy(air_height_spectra, dataSet)\n",
    "        \n",
    "        energy_squared_air_list.append(summary[0]**2)\n",
    "        pressure_list.append(summary[-1])\n",
    "        \n",
    "energy_squared_air = np.array(energy_squared_air_list)\n",
    "pressure_array = np.array(pressure_list)\n",
    "\n",
    "plt.plot(pressure_array, energy_squared_air, 'k.');\n",
    "plt.xlabel('Pressure')\n",
    "plt.ylabel('E^2')\n",
    "plt.show()\n",
    "        "
   ]
  },
  {
   "cell_type": "code",
   "execution_count": 26,
   "metadata": {},
   "outputs": [
    {
     "data": {
      "text/plain": [
       "array([ 50, 300, 300, 120, 377, 120, 337, 260, 260, 337, 300, 377,  50,\n",
       "       220, 120, 377, 260, 337,  50])"
      ]
     },
     "execution_count": 26,
     "metadata": {},
     "output_type": "execute_result"
    }
   ],
   "source": [
    "pressure_array"
   ]
  },
  {
   "cell_type": "code",
   "execution_count": 27,
   "metadata": {},
   "outputs": [
    {
     "data": {
      "text/plain": [
       "array([2.90480772e-02, 2.11341720e-02, 1.80272384e+02, 2.14978560e-02,\n",
       "       3.36522076e+01, 2.94648872e-02, 1.59100682e+02, 2.10123252e-02,\n",
       "       9.81838356e-02, 1.59100682e+02, 9.92203369e+01, 1.32673598e+02,\n",
       "       9.81838356e-02, 2.50689956e-02, 9.81838356e-02, 2.54303987e-02,\n",
       "       1.39042496e+02, 3.38140270e+01, 3.01332586e-02])"
      ]
     },
     "execution_count": 27,
     "metadata": {},
     "output_type": "execute_result"
    }
   ],
   "source": [
    "energy_squared_air"
   ]
  },
  {
   "cell_type": "code",
   "execution_count": null,
   "metadata": {},
   "outputs": [],
   "source": []
  }
 ],
 "metadata": {
  "kernelspec": {
   "display_name": "Python 3",
   "language": "python",
   "name": "python3"
  },
  "language_info": {
   "codemirror_mode": {
    "name": "ipython",
    "version": 3
   },
   "file_extension": ".py",
   "mimetype": "text/x-python",
   "name": "python",
   "nbconvert_exporter": "python",
   "pygments_lexer": "ipython3",
   "version": "3.6.4"
  }
 },
 "nbformat": 4,
 "nbformat_minor": 2
}
