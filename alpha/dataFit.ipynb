{
 "cells": [
  {
   "cell_type": "code",
   "execution_count": 66,
   "metadata": {},
   "outputs": [
    {
     "name": "stdout",
     "output_type": "stream",
     "text": [
      "Enter filename:  test_pulse_1.5V.mca\n"
     ]
    },
    {
     "name": "stderr",
     "output_type": "stream",
     "text": [
      "2019-02-11 21:03:44,769 - DEBUG - file_path = /Users/nikourriola/Desktop/sp19/phys403/alpha/testPulseData/test_pulse_1.5V.mca\n",
      "2019-02-11 21:03:44,771 - DEBUG - mean:  0.789062\n",
      "std_dev:  9.678849\n",
      "2019-02-11 21:03:44,772 - DEBUG - distribution center:  96.789062\n"
     ]
    },
    {
     "data": {
      "image/png": "[encoded data removed]",
      "text/plain": [
       "<matplotlib.figure.Figure at 0x1a2096a160>"
      ]
     },
     "metadata": {},
     "output_type": "display_data"
    }
   ],
   "source": [
    "#!/usr/bin/env python3\n",
    "\n",
    "def gaussian(x, mu, sigma, amp):\n",
    "    import numpy as np\n",
    "\n",
    "    coeff = amp/np.sqrt(2 * np.pi * (sigma**2))\n",
    "    num = (x-mu)**2\n",
    "    den = 2 * (sigma**2)\n",
    "\n",
    "    return coeff * np.exp(-(num/den))\n",
    "\n",
    "def open_data():\n",
    "    \n",
    "    import os\n",
    "    import logging\n",
    "    logging.basicConfig(level = logging.DEBUG, format = '%(asctime)s - %(levelname)s - %(message)s')\n",
    "    \n",
    "    #ask user for filename\n",
    "    user_file = input('Enter filename:  ')\n",
    "\n",
    "    #format user_file for file_path\n",
    "    file_name = '/' + user_file\n",
    "\n",
    "    #calibration data is located in testPulseData directory\n",
    "    test_pulse_dir = os.path.abspath('testPulseData')\n",
    "\n",
    "    #create full path to file\n",
    "    file_path = test_pulse_dir + file_name\n",
    "\n",
    "    logging.debug('file_path = %s' %file_path)\n",
    "\n",
    "    file = open(file_path)\n",
    "    raw_data = file.readlines()\n",
    "    file.close()\n",
    "    \n",
    "    return raw_data\n",
    "\n",
    "def fit_to_data():\n",
    "\n",
    "    import numpy as np\n",
    "    import matplotlib.pyplot as plt\n",
    "    from scipy.stats import norm\n",
    "    import logging\n",
    "    logging.basicConfig(level = logging.DEBUG, format = '%(asctime)s - %(levelname)s - %(message)s')\n",
    "\n",
    "    raw_data = open_data()\n",
    "    \n",
    "    count_data = raw_data[12:len(raw_data) - 1]\n",
    "\n",
    "    #y data of histogram\n",
    "    count_array = np.array(count_data, dtype = int)\n",
    "    \n",
    "    #choose threshold (arbitrary)\n",
    "    threshold = 10\n",
    "    \n",
    "    signal = []\n",
    "    \n",
    "    #strip noise based on threshold\n",
    "    for dataPoint in count_array:\n",
    "        if dataPoint > threshold:\n",
    "            signal.append(dataPoint)\n",
    "        else:\n",
    "            signal.append(0)\n",
    "            \n",
    "    signal = np.array(signal, dtype = int)\n",
    "    \n",
    "    #largest count recorded\n",
    "    max_amplitude = np.amax(signal)\n",
    "    \n",
    "    #largest count channel\n",
    "    mean_adjustment = np.argmax(signal)\n",
    "    \n",
    "    #calculate mean and standard deviation of the counts\n",
    "    mean, std_dev = norm.fit(signal)\n",
    "    logging.debug('mean:  %f\\nstd_dev:  %f' %(mean, std_dev))\n",
    "    \n",
    "    #value to center the distribution on largest peak\n",
    "    distribution_center = mean + mean_adjustment\n",
    "    logging.debug('distribution center:  %f' %distribution_center)\n",
    "    \n",
    "    #x axis data\n",
    "    bins_array = np.linspace(1, 1024, 1024)\n",
    "    \n",
    "    #calculating value of gaussian across domain\n",
    "    gauss_y = gaussian(bins_array, distribution_center, std_dev, max_amplitude*1e2)\n",
    "    \n",
    "    \n",
    "    plt.bar(bins_array, signal);\n",
    "    plt.plot(bins_array, gauss_y, 'k-');\n",
    "    plt.show()\n",
    "\n",
    "    return (distribution_center, mean, std_dev)\n",
    "\n",
    "\n",
    "fit_to_data()"
   ]
  },
  {
   "cell_type": "code",
   "execution_count": null,
   "metadata": {},
   "outputs": [],
   "source": []
  }
 ],
 "metadata": {
  "kernelspec": {
   "display_name": "Python 3",
   "language": "python",
   "name": "python3"
  },
  "language_info": {
   "codemirror_mode": {
    "name": "ipython",
    "version": 3
   },
   "file_extension": ".py",
   "mimetype": "text/x-python",
   "name": "python",
   "nbconvert_exporter": "python",
   "pygments_lexer": "ipython3",
   "version": "3.6.4"
  }
 },
 "nbformat": 4,
 "nbformat_minor": 2
}
