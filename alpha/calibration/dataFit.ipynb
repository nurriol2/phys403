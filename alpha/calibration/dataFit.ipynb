{
 "cells": [
  {
   "cell_type": "code",
   "execution_count": 1,
   "metadata": {},
   "outputs": [
    {
     "name": "stderr",
     "output_type": "stream",
     "text": [
      "2019-02-24 13:48:30,827 - DEBUG - file_path = /Users/nikourriola/Desktop/sp19/phys403/alpha/calibration/testPulseData/test_pulse_0.5V.mca\n",
      "2019-02-24 13:48:30,829 - DEBUG - mean:  3.157227\n",
      "std_dev:  32.352304\n",
      "2019-02-24 13:48:30,830 - DEBUG - distribution center:  388.157227\n"
     ]
    },
    {
     "data": {
      "text/plain": [
       "<matplotlib.figure.Figure at 0x190ebba860>"
      ]
     },
     "metadata": {},
     "output_type": "display_data"
    },
    {
     "data": {
      "text/plain": [
       "(388.1572265625, 3.1572265625, 32.35230391904948)"
      ]
     },
     "execution_count": 1,
     "metadata": {},
     "output_type": "execute_result"
    }
   ],
   "source": [
    "#!/usr/bin/env python3\n",
    "\n",
    "def gaussian(x, mu, sigma, amp = 1):\n",
    "    import numpy as np\n",
    "    \n",
    "    #since not using Norm. Dist. as PDF later, amplitude of 1 not necessarily correct\n",
    "    coeff = amp/np.sqrt(2 * np.pi * (sigma**2)) \n",
    "    num = (x-mu)**2\n",
    "    den = 2 * (sigma**2)\n",
    "\n",
    "    return coeff * np.exp(-(num/den))\n",
    "\n",
    "def open_calibration_data(user_file):\n",
    "    \n",
    "    \"\"\"\n",
    "    open calibration data directory and access measurements within\n",
    "    \"\"\"\n",
    "    \n",
    "    import os\n",
    "    import logging\n",
    "    logging.basicConfig(level = logging.DEBUG, format = '%(asctime)s - %(levelname)s - %(message)s')\n",
    "    \n",
    "    #format user_file for file_path\n",
    "    file_name = '/' + user_file\n",
    "\n",
    "    #access testPulseData directory\n",
    "    test_pulse_dir = os.path.abspath('testPulseData')\n",
    "\n",
    "    #create full path to file\n",
    "    file_path = test_pulse_dir + file_name\n",
    "\n",
    "    logging.debug('file_path = %s' %file_path)\n",
    "    \n",
    "    file = open(file_path)\n",
    "    raw_data = file.readlines()\n",
    "    file.close()\n",
    "    \n",
    "    return raw_data\n",
    "\n",
    "def calibrate_MCA(user_file):\n",
    "    \n",
    "    \"\"\"\n",
    "    calculate the mean and standard deviation of a normal distribution (Norm. Dist.) centered \n",
    "    on the peaks of user_file\n",
    "    \n",
    "    display the Norm. Dist. and signal histogram together on a plot\n",
    "    \"\"\"\n",
    "    \n",
    "    import numpy as np\n",
    "    import matplotlib.pyplot as plt\n",
    "    from scipy.stats import norm\n",
    "    import logging\n",
    "    logging.basicConfig(level = logging.DEBUG, format = '%(asctime)s - %(levelname)s - %(message)s')\n",
    "\n",
    "    raw_data = open_calibration_data(user_file)\n",
    "    \n",
    "    #list of signal + noise counts\n",
    "    count_data = raw_data[12:len(raw_data) - 1]\n",
    "\n",
    "    #array of signal + noise counts recorded in data file\n",
    "    count_array = np.array(count_data, dtype = int)\n",
    "    \n",
    "    #educated guess based on height of outermost peaks surrounding maxima\n",
    "    threshold = 10\n",
    "    \n",
    "    signal = []\n",
    "    \n",
    "    #strip noise based on threshold\n",
    "    for dataPoint in count_array:\n",
    "        if dataPoint > threshold:\n",
    "            signal.append(dataPoint)\n",
    "        else:\n",
    "            signal.append(0)\n",
    "            \n",
    "    signal = np.array(signal, dtype = int)\n",
    "    \n",
    "    #largest count recorded\n",
    "    max_amplitude = np.amax(signal)\n",
    "    \n",
    "    #index of maxima \n",
    "    mean_adjustment = np.argmax(signal)\n",
    "    \n",
    "    #calculate mean and standard deviation of the counts\n",
    "    mean, std_dev = norm.fit(signal)\n",
    "    logging.debug('mean:  %f\\nstd_dev:  %f' %(mean, std_dev))\n",
    "    \n",
    "    #adjusted mean that centers distribution on a maxima\n",
    "    distribution_center = mean + mean_adjustment\n",
    "    logging.debug('distribution center:  %f' %distribution_center)\n",
    "    \n",
    "    #physical detector has 1024 channels \n",
    "    bins_array = np.linspace(1, 1024, 1024)\n",
    "    \n",
    "    #calculate the value of the normal distribution across the domain [1, 1024]\n",
    "    gauss_y = gaussian(bins_array, distribution_center, std_dev, max_amplitude*1e2)\n",
    "    \n",
    "    #plot the raw data as a histogram\n",
    "    plt.bar(bins_array, signal);\n",
    "    #plot the normal distribution on top of the histogram\n",
    "    plt.plot(bins_array, gauss_y, 'k-');\n",
    "    plt.show()\n",
    "    \n",
    "    \n",
    "    return (distribution_center, mean, std_dev)\n",
    "\n",
    "\n",
    "calibrate_MCA('test_pulse_0.5V.mca')"
   ]
  },
  {
   "cell_type": "code",
   "execution_count": 2,
   "metadata": {},
   "outputs": [],
   "source": [
    "#!usr/bin/env python3\n",
    "\n",
    "def emev(vPulse):\n",
    "\n",
    "    \"\"\"\n",
    "    calculate the equivalent test pulse energy (MeV)\n",
    "\n",
    "    calculation follows from equations found on page 5 in 'Range of Alpha Particles in Gas'\n",
    "\n",
    "    @input:  vpulse - voltage of the test pulse as read from oscilloscope (V)\n",
    "\n",
    "    @output: equivalentE - equivalent energy of the test pulse in MeV\n",
    "    \"\"\"\n",
    "\n",
    "    #C1 = 0.4095 pF according to the case of the preamplifier\n",
    "    qtest = (0.4095e-12) * vPulse\n",
    "\n",
    "    #equivalence relation\n",
    "    equivalentE = 2.26e13 * qtest\n",
    "    \n",
    "    print(equivalentE)\n",
    "    \n",
    "    return equivalentE\n"
   ]
  },
  {
   "cell_type": "code",
   "execution_count": null,
   "metadata": {},
   "outputs": [
    {
     "name": "stderr",
     "output_type": "stream",
     "text": [
      "2019-02-24 13:48:38,039 - DEBUG - ['copypulse.mca', 'test_pulse_0.5V.mca', 'test_pulse_0.6V.mca', 'test_pulse_0.7V.mca', 'test_pulse_0.8V.mca', 'test_pulse_0.9V.mca', 'test_pulse_1.0V.mca', 'test_pulse_1.1V.mca', 'test_pulse_1.2V.mca', 'test_pulse_1.3V.mca', 'test_pulse_1.4V.mca', 'test_pulse_1.5V.mca']\n",
      "2019-02-24 13:48:38,040 - DEBUG - file_path = /Users/nikourriola/Desktop/sp19/phys403/alpha/calibration/testPulseData/test_pulse_0.5V.mca\n",
      "2019-02-24 13:48:38,044 - DEBUG - mean:  3.157227\n",
      "std_dev:  32.352304\n",
      "2019-02-24 13:48:38,049 - DEBUG - distribution center:  388.157227\n"
     ]
    },
    {
     "data": {
      "image/png": "[encoded data removed]",
      "text/plain": [
       "<matplotlib.figure.Figure at 0x1a116d23c8>"
      ]
     },
     "metadata": {},
     "output_type": "display_data"
    },
    {
     "name": "stderr",
     "output_type": "stream",
     "text": [
      "2019-02-24 13:48:39,781 - DEBUG - file_path = /Users/nikourriola/Desktop/sp19/phys403/alpha/calibration/testPulseData/test_pulse_0.5V.mca\n",
      "2019-02-24 13:48:39,783 - DEBUG - mean:  3.157227\n",
      "std_dev:  32.352304\n",
      "2019-02-24 13:48:39,784 - DEBUG - distribution center:  388.157227\n"
     ]
    }
   ],
   "source": [
    "#!/usr/bin/env python 3\n",
    "\n",
    "import os\n",
    "import numpy as np\n",
    "import matplotlib.pyplot as plt\n",
    "\n",
    "import logging\n",
    "logging.basicConfig(level = logging.DEBUG, format = '%(asctime)s - %(levelname)s - %(message)s')\n",
    "\n",
    "\"\"\"\n",
    "apply calibrate_MCA to all data sets within testPulseData directory\n",
    "\n",
    "create arrays to be used for translating channel number to energy\n",
    "\"\"\"\n",
    "\n",
    "file_list = None\n",
    "for root, dirs, files in os.walk('testPulseData', topdown = False):\n",
    "       file_list = files\n",
    "\n",
    "#sort the calibration files by name\n",
    "file_list.sort()\n",
    "logging.debug(file_list)\n",
    "\n",
    "x_data = []\n",
    "x_error = []\n",
    "for fileName in file_list[1:]:\n",
    "    #calculate the Norm. Dist. mean for every calibration data set\n",
    "    dist_center_val = calibrate_MCA(fileName)[0]\n",
    "    #add the normal distribution mean to a list x_data\n",
    "    x_data.append(dist_center_val)\n",
    "    \n",
    "    #calculate the Norm. Dist. standard deviation for every calibration data set\n",
    "    std_dev_val = calibrate_MCA(fileName)[2]\n",
    "    #add the normal distribution std to a list x_error\n",
    "    x_error.append(std_dev_val)\n",
    "\n",
    "#convert x_data list into an array \n",
    "x_data = np.array(x_data)\n",
    "logging.debug('x_data:  %s' %x_data)\n",
    "\n",
    "#convert x_error list into an array\n",
    "x_error = np.array(x_error)\n",
    "logging.debug('x_error:  %s' %x_error) \n",
    "\n"
   ]
  },
  {
   "cell_type": "code",
   "execution_count": 4,
   "metadata": {},
   "outputs": [
    {
     "name": "stderr",
     "output_type": "stream",
     "text": [
      "2019-02-22 23:03:08,798 - DEBUG - [0.5 0.6 0.7 0.8 0.9 1.  1.1 1.2 1.3 1.4 1.5]\n",
      "2019-02-22 23:03:08,807 - DEBUG - y_data:  [ 4.62735  5.55282  6.47829  7.40376  8.32923  9.2547  10.18017 11.10564\n",
      " 12.03111 12.95658 13.88205]\n"
     ]
    },
    {
     "name": "stdout",
     "output_type": "stream",
     "text": [
      "[ 4.62735  5.55282  6.47829  7.40376  8.32923  9.2547  10.18017 11.10564\n",
      " 12.03111 12.95658 13.88205]\n"
     ]
    }
   ],
   "source": [
    "\"\"\"\n",
    "create an array containing the equivalent energies for ALL the test pulse voltages measured\n",
    "\"\"\"\n",
    "\n",
    "pulse_voltage = np.linspace(0.5, 1.5, 11)\n",
    "logging.debug(pulse_voltage)\n",
    "\n",
    "y_data = emev(pulse_voltage)\n",
    "logging.debug('y_data:  %s' %y_data)\n",
    "\n",
    "assert(len(x_data) == len(y_data))"
   ]
  },
  {
   "cell_type": "code",
   "execution_count": 5,
   "metadata": {},
   "outputs": [
    {
     "data": {
      "text/plain": [
       "'\\nobserve that the data point (1.5V --> Ch 96.789062, 13.88) \"pulls up\" the slope of the calibration curve\\n\\nunder the assumption that our DAQ is acceptable up to this equivalent energy, \\nthen, eliminate this data point and recalculate the calibration line (linear regression)\\n'"
      ]
     },
     "execution_count": 5,
     "metadata": {},
     "output_type": "execute_result"
    },
    {
     "data": {
      "image/png": "[encoded data removed]",
      "text/plain": [
       "<matplotlib.figure.Figure at 0x11a98bb70>"
      ]
     },
     "metadata": {},
     "output_type": "display_data"
    }
   ],
   "source": [
    "\"\"\"\n",
    "calculate a best fit line based on (ALL) the calibration data\n",
    "\"\"\"\n",
    "def line(x, m, b):\n",
    "    return (m*x) + b\n",
    "\n",
    "import scipy.stats as sps\n",
    "\n",
    "#includes data point at 1.5V\n",
    "fit_results = sps.linregress(x_data, y_data)\n",
    "\n",
    "yFit = line(x_data, fit_results[0], fit_results[1])\n",
    "\n",
    "plt.plot(x_data, yFit, 'r-');\n",
    "\n",
    "plt.plot(x_data, y_data, 'k.');\n",
    "plt.xlabel('Channel Number')\n",
    "plt.ylabel('Energy (MeV)')\n",
    "plt.errorbar(x_data, y_data, xerr = x_error, fmt = 'none')\n",
    "\n",
    "'''\n",
    "observe that the data point (1.5V --> Ch 96.789062, 13.88) \"pulls up\" the slope of the calibration curve\n",
    "\n",
    "under the assumption that our DAQ is acceptable up to this equivalent energy, \n",
    "then, eliminate this data point and recalculate the calibration line (linear regression)\n",
    "'''"
   ]
  },
  {
   "cell_type": "code",
   "execution_count": 6,
   "metadata": {},
   "outputs": [
    {
     "name": "stderr",
     "output_type": "stream",
     "text": [
      "2019-02-22 23:03:09,084 - DEBUG - x:  [388.15722656 423.83105469 477.89453125 558.32421875 618.99902344\n",
      " 629.73046875 822.92675781 822.92675781 882.89355469 942.45410156]\n",
      "2019-02-22 23:03:09,085 - DEBUG - y:  [ 4.62735  5.55282  6.47829  7.40376  8.32923  9.2547  10.18017 11.10564\n",
      " 12.03111 12.95658]\n",
      "2019-02-22 23:03:09,087 - DEBUG - slope:  0.013863\n",
      "intercept:  -0.313343\n",
      "2019-02-22 23:03:09,092 - DEBUG - r value:  0.987051\n"
     ]
    },
    {
     "data": {
      "text/plain": [
       "<Container object of 3 artists>"
      ]
     },
     "execution_count": 6,
     "metadata": {},
     "output_type": "execute_result"
    },
    {
     "data": {
      "image/png": "[encoded data removed]",
      "text/plain": [
       "<matplotlib.figure.Figure at 0x10e40aef0>"
      ]
     },
     "metadata": {},
     "output_type": "display_data"
    }
   ],
   "source": [
    "\"\"\"\n",
    "assuming that the measurement at 1.5V is an outlier that can be ignored,\n",
    "calculate a best fit line based on the remaining calibration data\n",
    "\"\"\"\n",
    "\n",
    "mod_x_data = x_data[:len(x_data)-1]\n",
    "mod_y_data = y_data[:len(y_data)-1]\n",
    "logging.debug('x:  %s' %mod_x_data)\n",
    "logging.debug('y:  %s' %mod_y_data)\n",
    "\n",
    "\n",
    "mod_x_error = x_error[:len(x_error)-1]\n",
    "\n",
    "def line(x, m, b):\n",
    "    return (m*x) + b\n",
    "\n",
    "import scipy.stats as sps\n",
    "\n",
    "#does not contain a data point at 1.5V\n",
    "mod_fit_results = sps.linregress(mod_x_data, mod_y_data)\n",
    "\n",
    "mod_yFit = line(mod_x_data, mod_fit_results[0], mod_fit_results[1])\n",
    "logging.debug('slope:  %f\\nintercept:  %f' %(mod_fit_results[0], mod_fit_results[1]))\n",
    "logging.debug('r value:  %f' %mod_fit_results[2])\n",
    "\n",
    "plt.plot(mod_x_data, mod_yFit, 'r-');\n",
    "\n",
    "plt.plot(mod_x_data, mod_y_data, 'k.');\n",
    "plt.xlabel('Channel Number')\n",
    "plt.ylabel('Energy (MeV)')\n",
    "plt.errorbar(mod_x_data, mod_y_data, xerr = mod_x_error, fmt = 'none')"
   ]
  },
  {
   "cell_type": "markdown",
   "metadata": {},
   "source": [
    "The resulting equation describes the best fit line that will be used for translating channel number to energy\n",
    "\n",
    "\n",
    "y =  0.013863 * x +  (-0.313343)"
   ]
  },
  {
   "cell_type": "markdown",
   "metadata": {},
   "source": [
    "What happens if instead of plotting the best fit line for the modified domain, the best fit is plotted for a generalized domain? I think the best fit should retain the same form, but also extend outside the modified domain."
   ]
  },
  {
   "cell_type": "code",
   "execution_count": 11,
   "metadata": {},
   "outputs": [
    {
     "name": "stderr",
     "output_type": "stream",
     "text": [
      "2019-02-22 23:06:04,254 - DEBUG - slope:  0.013863\n",
      "intercept:  -0.313343\n",
      "2019-02-22 23:06:04,255 - DEBUG - r value:  0.987051\n"
     ]
    },
    {
     "data": {
      "image/png": "[encoded data removed]",
      "text/plain": [
       "<matplotlib.figure.Figure at 0x10e3c7390>"
      ]
     },
     "metadata": {},
     "output_type": "display_data"
    }
   ],
   "source": [
    "\"\"\"\n",
    "general_domain is an extension of the domain beyond the lowest data point and up to the highest recorded data point\n",
    "that is:  [0, 1024] using 10e3 steps\n",
    "\"\"\"\n",
    "\n",
    "mod_x_data = x_data[:len(x_data)-1]\n",
    "mod_y_data = y_data[:len(y_data)-1]\n",
    "\n",
    "mod_x_error = x_error[:len(x_error)-1]\n",
    "\n",
    "def line(x, m, b):\n",
    "    return (m*x) + b\n",
    "\n",
    "import scipy.stats as sps\n",
    "\n",
    "#does not contain a data point at 1.5V\n",
    "mod_fit_results = sps.linregress(mod_x_data, mod_y_data)\n",
    "\n",
    "general_domain = np.linspace(300, 1024, 10000)\n",
    "mod_yFit = line(general_domain, mod_fit_results[0], mod_fit_results[1])\n",
    "logging.debug('slope:  %f\\nintercept:  %f' %(mod_fit_results[0], mod_fit_results[1]))\n",
    "logging.debug('r value:  %f' %mod_fit_results[2])\n",
    "\n",
    "fig = plt.figure()\n",
    "ax = fig.add_axes([1,1,1,1])\n",
    "\n",
    "plt.plot(general_domain, mod_yFit, 'r-');\n",
    "\n",
    "plt.plot(mod_x_data, mod_y_data, 'k.');\n",
    "plt.xlabel('Channel Number')\n",
    "plt.ylabel('Energy (MeV)')\n",
    "plt.title('Energy calibration line and test data')\n",
    "\n",
    "mod_y_error = [0.6287,0.6287,0.6287,0.6287,0.6287,0.6287,0.6287,0.6287,0.6287,0.6287]\n",
    "\n",
    "\n",
    "plt.errorbar(mod_x_data, mod_y_data, xerr = mod_x_error, yerr = mod_y_error fmt = 'none')\n",
    "\n",
    "fig.savefig('calibrationPlot.png', bbox_inches = 'tight')"
   ]
  },
  {
   "cell_type": "markdown",
   "metadata": {},
   "source": [
    "It would seem our intuition was correct"
   ]
  },
  {
   "cell_type": "code",
   "execution_count": null,
   "metadata": {},
   "outputs": [],
   "source": []
  }
 ],
 "metadata": {
  "kernelspec": {
   "display_name": "Python 3",
   "language": "python",
   "name": "python3"
  },
  "language_info": {
   "codemirror_mode": {
    "name": "ipython",
    "version": 3
   },
   "file_extension": ".py",
   "mimetype": "text/x-python",
   "name": "python",
   "nbconvert_exporter": "python",
   "pygments_lexer": "ipython3",
   "version": "3.6.4"
  }
 },
 "nbformat": 4,
 "nbformat_minor": 2
}
