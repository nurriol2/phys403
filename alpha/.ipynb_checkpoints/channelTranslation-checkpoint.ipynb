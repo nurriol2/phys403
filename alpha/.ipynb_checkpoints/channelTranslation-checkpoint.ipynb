{
 "cells": [
  {
   "cell_type": "code",
   "execution_count": 32,
   "metadata": {},
   "outputs": [],
   "source": [
    "#!/usr/bin/env python3\n",
    "\n",
    "import matplotlib.pyplot as plt\n",
    "import numpy as np\n",
    "import os\n",
    "from scipy.stats import norm\n",
    "\n",
    "import logging\n",
    "logging.basicConfig(level = logging.DEBUG, format = '%(asctime)s - %(levelname)s - %(message)s')\n",
    "\n",
    "%run generalized_open"
   ]
  },
  {
   "cell_type": "code",
   "execution_count": 33,
   "metadata": {},
   "outputs": [],
   "source": [
    "def calibration_curve(x):\n",
    "    return x * 0.013863 + (-0.313343)\n"
   ]
  },
  {
   "cell_type": "code",
   "execution_count": 34,
   "metadata": {},
   "outputs": [],
   "source": [
    "def particle_energy(user_dir, user_file):\n",
    "    \n",
    "    \n",
    "    raw_data = my_open(user_dir, user_file)\n",
    "    \n",
    "    #list of signal + noise counts\n",
    "    count_data = raw_data[12:len(raw_data) - 1]\n",
    "\n",
    "    #array of signal + noise counts recorded in data file\n",
    "    signal_and_noise = np.array(count_data, dtype = int)\n",
    "    \n",
    "    #educated guess based on height of outermost peaks surrounding maxima\n",
    "    threshold = 7\n",
    "    \n",
    "    signal = []\n",
    "    \n",
    "    #strip noise based on threshold\n",
    "    for dataPoint in signal_and_noise:\n",
    "        if dataPoint > threshold:\n",
    "            signal.append(dataPoint)\n",
    "        else:\n",
    "            signal.append(0)\n",
    "            \n",
    "    signal = np.array(signal, dtype = int)\n",
    "    \n",
    "    #largest count recorded\n",
    "    max_amplitude = np.amax(signal)\n",
    "    \n",
    "    #index of maxima \n",
    "    mean_adjustment = np.argmax(signal)\n",
    "    \n",
    "    #calculate mean and standard deviation of the counts\n",
    "    mean, std_dev = norm.fit(signal)\n",
    "    \n",
    "    channel = mean + mean_adjustment\n",
    "    \n",
    "    pcl_energy = calibration_curve(channel)\n",
    "    \n",
    "    downstream_channel = channel + std_dev\n",
    "    \n",
    "    downstream_energy = calibration_curve(downstream_channel)\n",
    "    \n",
    "    pcl_energy_error = downstream_energy - pcl_energy \n",
    "    \n",
    "    \n",
    "    logging.debug('particle energy:  %f (MeV)' %pcl_energy)\n",
    "    logging.debug('particle energy error:  %f (MeV)' %pcl_energy_error)\n",
    "    \n",
    "    \n",
    "    return (pcl_energy, pcl_energy_error)"
   ]
  },
  {
   "cell_type": "code",
   "execution_count": 46,
   "metadata": {},
   "outputs": [
    {
     "name": "stderr",
     "output_type": "stream",
     "text": [
      "2019-02-16 00:12:04,292 - DEBUG - /Users/nikourriola/Desktop/sp19/phys403/alpha/height_spectra_air\n",
      "2019-02-16 00:12:04,294 - DEBUG - file_path = /Users/nikourriola/Desktop/sp19/phys403/alpha/height_spectra_argon/390mmHg_Argon_9.4cm.mca\n",
      "2019-02-16 00:12:04,300 - DEBUG - particle energy:  -0.173129 (MeV)\n",
      "2019-02-16 00:12:04,301 - DEBUG - particle energy error:  0.023512 (MeV)\n",
      "2019-02-16 00:12:04,303 - DEBUG - file_path = /Users/nikourriola/Desktop/sp19/phys403/alpha/height_spectra_argon/220mmHg_Argon_11.4cm.mca\n",
      "2019-02-16 00:12:04,306 - DEBUG - particle energy:  -0.313343 (MeV)\n",
      "2019-02-16 00:12:04,307 - DEBUG - particle energy error:  0.000000 (MeV)\n",
      "2019-02-16 00:12:04,308 - DEBUG - file_path = /Users/nikourriola/Desktop/sp19/phys403/alpha/height_spectra_argon/280mmHg_Argon_11.4cm.mca\n",
      "2019-02-16 00:12:04,311 - DEBUG - particle energy:  -0.313343 (MeV)\n",
      "2019-02-16 00:12:04,312 - DEBUG - particle energy error:  0.000000 (MeV)\n",
      "2019-02-16 00:12:04,313 - DEBUG - file_path = /Users/nikourriola/Desktop/sp19/phys403/alpha/height_spectra_argon/460mmHg_Argon_11.4cm.mca\n",
      "2019-02-16 00:12:04,325 - DEBUG - particle energy:  -0.313343 (MeV)\n",
      "2019-02-16 00:12:04,326 - DEBUG - particle energy error:  0.000000 (MeV)\n",
      "2019-02-16 00:12:04,327 - DEBUG - file_path = /Users/nikourriola/Desktop/sp19/phys403/alpha/height_spectra_argon/390mmHg_Argon_11.4cm.mca\n",
      "2019-02-16 00:12:04,330 - DEBUG - particle energy:  -0.313343 (MeV)\n",
      "2019-02-16 00:12:04,332 - DEBUG - particle energy error:  0.000000 (MeV)\n",
      "2019-02-16 00:12:04,334 - DEBUG - file_path = /Users/nikourriola/Desktop/sp19/phys403/alpha/height_spectra_argon/460mmHg_Argon_9.4cm.mca\n",
      "2019-02-16 00:12:04,341 - DEBUG - particle energy:  -0.146215 (MeV)\n",
      "2019-02-16 00:12:04,344 - DEBUG - particle energy error:  0.012540 (MeV)\n",
      "2019-02-16 00:12:04,345 - DEBUG - file_path = /Users/nikourriola/Desktop/sp19/phys403/alpha/height_spectra_argon/220mmHg_Argon_9.4cm.mca\n",
      "2019-02-16 00:12:04,353 - DEBUG - particle energy:  -0.173183 (MeV)\n",
      "2019-02-16 00:12:04,354 - DEBUG - particle energy error:  0.023372 (MeV)\n",
      "2019-02-16 00:12:04,358 - DEBUG - file_path = /Users/nikourriola/Desktop/sp19/phys403/alpha/height_spectra_argon/280mmHg_Argon_9.4cm.mca\n",
      "2019-02-16 00:12:04,361 - DEBUG - particle energy:  -0.173373 (MeV)\n",
      "2019-02-16 00:12:04,362 - DEBUG - particle energy error:  0.018771 (MeV)\n"
     ]
    }
   ],
   "source": [
    "#argon data sets\n",
    "argon_height_spectra = os.path.abspath('height_spectra_argon')\n",
    "logging.debug(argon_height_spectra)\n",
    "\n",
    "for root, dirs, files in os.walk(argon_height_spectra):\n",
    "    for dataSet in files:\n",
    "        particle_energy(argon_height_spectra, dataSet)\n",
    "            "
   ]
  },
  {
   "cell_type": "code",
   "execution_count": null,
   "metadata": {},
   "outputs": [],
   "source": []
  }
 ],
 "metadata": {
  "kernelspec": {
   "display_name": "Python 3",
   "language": "python",
   "name": "python3"
  },
  "language_info": {
   "codemirror_mode": {
    "name": "ipython",
    "version": 3
   },
   "file_extension": ".py",
   "mimetype": "text/x-python",
   "name": "python",
   "nbconvert_exporter": "python",
   "pygments_lexer": "ipython3",
   "version": "3.6.4"
  }
 },
 "nbformat": 4,
 "nbformat_minor": 2
}
