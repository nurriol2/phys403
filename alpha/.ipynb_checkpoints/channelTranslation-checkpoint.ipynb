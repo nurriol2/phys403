{
 "cells": [
  {
   "cell_type": "code",
   "execution_count": 80,
   "metadata": {},
   "outputs": [],
   "source": [
    "#!/usr/bin/env python3\n",
    "\n",
    "import matplotlib.pyplot as plt\n",
    "import numpy as np\n",
    "import os\n",
    "from scipy.stats import norm\n",
    "\n",
    "import logging\n",
    "logging.basicConfig(level = logging.DEBUG, format = '%(asctime)s - %(levelname)s - %(message)s')\n",
    "\n",
    "%run generalized_open"
   ]
  },
  {
   "cell_type": "code",
   "execution_count": 81,
   "metadata": {},
   "outputs": [],
   "source": [
    "def pull_file_info(user_file):\n",
    "    \n",
    "    import re\n",
    "\n",
    "\n",
    "    pressure_regex = re.compile(r'\\d{3}m{2}Hg')\n",
    "    distance_regex = re.compile(r'(\\d+\\.\\d)cm')\n",
    "    gas_regex_notAir = re.compile(r'[A,a]rgon|[H,h]elium')\n",
    "    \n",
    "    pressure_match = pressure_regex.search(user_file)\n",
    "    pressure = pressure_match.group()\n",
    "    \n",
    "    distance_match = distance_regex.search(user_file)\n",
    "    distance = distance_match.group()\n",
    "    \n",
    "    gas_match = gas_regex_notAir.search(user_file)\n",
    "    \n",
    "    if gas_match == None:\n",
    "        gas = 'Air'\n",
    "    else:\n",
    "        gas = gas_match.group()\n",
    "    \n",
    "    console_result = 'gas: %s \\ndistance = %s \\npressure = %s'%(gas, distance, pressure)\n",
    "    \n",
    "    print(console_result)\n",
    "    \n",
    "    return (pressure, distance, gas)\n"
   ]
  },
  {
   "cell_type": "code",
   "execution_count": 82,
   "metadata": {},
   "outputs": [],
   "source": [
    "def calibration_curve(x):\n",
    "    return x * 0.013863 + (-0.313343)\n"
   ]
  },
  {
   "cell_type": "code",
   "execution_count": 83,
   "metadata": {},
   "outputs": [],
   "source": [
    "def particle_energy(user_dir, user_file):\n",
    "    \n",
    "    pull_file_info(user_file)\n",
    "    \n",
    "    raw_data = my_open(user_dir, user_file)\n",
    "    \n",
    "    #list of signal + noise counts\n",
    "    count_data = raw_data[12:len(raw_data) - 1]\n",
    "\n",
    "    #array of signal + noise counts recorded in data file\n",
    "    signal_and_noise = np.array(count_data, dtype = int)\n",
    "    \n",
    "    #educated guess based on height of outermost peaks surrounding maxima\n",
    "    threshold = 7\n",
    "    \n",
    "    signal = []\n",
    "    \n",
    "    #strip noise based on threshold\n",
    "    for dataPoint in signal_and_noise:\n",
    "        if dataPoint > threshold:\n",
    "            signal.append(dataPoint)\n",
    "        else:\n",
    "            signal.append(0)\n",
    "            \n",
    "    signal = np.array(signal, dtype = int)\n",
    "    \n",
    "    #largest count recorded\n",
    "    max_amplitude = np.amax(signal)\n",
    "    \n",
    "    #index of maxima \n",
    "    mean_adjustment = np.argmax(signal)\n",
    "    \n",
    "    #calculate mean and standard deviation of the counts\n",
    "    mean, std_dev = norm.fit(signal)\n",
    "    \n",
    "    channel = mean + mean_adjustment\n",
    "    \n",
    "    pcl_energy = calibration_curve(channel)\n",
    "    \n",
    "    downstream_channel = channel + std_dev\n",
    "    \n",
    "    downstream_energy = calibration_curve(downstream_channel)\n",
    "    \n",
    "    pcl_energy_error = downstream_energy - pcl_energy \n",
    "    \n",
    "    \n",
    "    print('particle energy:  %f (MeV)' %pcl_energy)\n",
    "    print('particle energy error:  %f (MeV)' %pcl_energy_error)\n",
    "    \n",
    "    \n",
    "    return (pcl_energy, pcl_energy_error)"
   ]
  },
  {
   "cell_type": "code",
   "execution_count": 84,
   "metadata": {},
   "outputs": [
    {
     "name": "stderr",
     "output_type": "stream",
     "text": [
      "2019-02-16 01:18:46,075 - DEBUG - /Users/nikourriola/Desktop/sp19/phys403/alpha/height_spectra_argon\n",
      "2019-02-16 01:18:46,077 - DEBUG - file_path = /Users/nikourriola/Desktop/sp19/phys403/alpha/height_spectra_argon/390mmHg_Argon_9.4cm.mca\n",
      "2019-02-16 01:18:46,084 - DEBUG - file_path = /Users/nikourriola/Desktop/sp19/phys403/alpha/height_spectra_argon/220mmHg_Argon_11.4cm.mca\n",
      "2019-02-16 01:18:46,088 - DEBUG - file_path = /Users/nikourriola/Desktop/sp19/phys403/alpha/height_spectra_argon/280mmHg_Argon_11.4cm.mca\n",
      "2019-02-16 01:18:46,090 - DEBUG - file_path = /Users/nikourriola/Desktop/sp19/phys403/alpha/height_spectra_argon/460mmHg_Argon_11.4cm.mca\n",
      "2019-02-16 01:18:46,093 - DEBUG - file_path = /Users/nikourriola/Desktop/sp19/phys403/alpha/height_spectra_argon/390mmHg_Argon_11.4cm.mca\n",
      "2019-02-16 01:18:46,097 - DEBUG - file_path = /Users/nikourriola/Desktop/sp19/phys403/alpha/height_spectra_argon/460mmHg_Argon_9.4cm.mca\n",
      "2019-02-16 01:18:46,102 - DEBUG - file_path = /Users/nikourriola/Desktop/sp19/phys403/alpha/height_spectra_argon/220mmHg_Argon_9.4cm.mca\n",
      "2019-02-16 01:18:46,108 - DEBUG - file_path = /Users/nikourriola/Desktop/sp19/phys403/alpha/height_spectra_argon/280mmHg_Argon_9.4cm.mca\n"
     ]
    },
    {
     "name": "stdout",
     "output_type": "stream",
     "text": [
      "gas = Argon \n",
      "distance = 9.4cm \n",
      "pressure = 390mmHg\n",
      "particle energy:  -0.173129 (MeV)\n",
      "particle energy error:  0.023512 (MeV)\n",
      "gas = Argon \n",
      "distance = 11.4cm \n",
      "pressure = 220mmHg\n",
      "particle energy:  -0.313343 (MeV)\n",
      "particle energy error:  0.000000 (MeV)\n",
      "gas = Argon \n",
      "distance = 11.4cm \n",
      "pressure = 280mmHg\n",
      "particle energy:  -0.313343 (MeV)\n",
      "particle energy error:  0.000000 (MeV)\n",
      "gas = Argon \n",
      "distance = 11.4cm \n",
      "pressure = 460mmHg\n",
      "particle energy:  -0.313343 (MeV)\n",
      "particle energy error:  0.000000 (MeV)\n",
      "gas = Argon \n",
      "distance = 11.4cm \n",
      "pressure = 390mmHg\n",
      "particle energy:  -0.313343 (MeV)\n",
      "particle energy error:  0.000000 (MeV)\n",
      "gas = Argon \n",
      "distance = 9.4cm \n",
      "pressure = 460mmHg\n",
      "particle energy:  -0.146215 (MeV)\n",
      "particle energy error:  0.012540 (MeV)\n",
      "gas = Argon \n",
      "distance = 9.4cm \n",
      "pressure = 220mmHg\n",
      "particle energy:  -0.173183 (MeV)\n",
      "particle energy error:  0.023372 (MeV)\n",
      "gas = Argon \n",
      "distance = 9.4cm \n",
      "pressure = 280mmHg\n",
      "particle energy:  -0.173373 (MeV)\n",
      "particle energy error:  0.018771 (MeV)\n"
     ]
    }
   ],
   "source": [
    "#argon data sets\n",
    "argon_height_spectra = os.path.abspath('height_spectra_argon')\n",
    "logging.debug(argon_height_spectra)\n",
    "\n",
    "for root, dirs, files in os.walk(argon_height_spectra):\n",
    "    for dataSet in files:\n",
    "        particle_energy(argon_height_spectra, dataSet)\n",
    "            "
   ]
  },
  {
   "cell_type": "code",
   "execution_count": 69,
   "metadata": {},
   "outputs": [
    {
     "name": "stdout",
     "output_type": "stream",
     "text": [
      "pressure = 120mmHg \n",
      " distance = 1.4cm; gas = Air\n",
      "pressure = 220mmHg \n",
      " distance = 9.4cm; gas = Argon\n"
     ]
    },
    {
     "data": {
      "text/plain": [
       "('220mmHg', '9.4cm', 'Argon')"
      ]
     },
     "execution_count": 69,
     "metadata": {},
     "output_type": "execute_result"
    }
   ],
   "source": [
    "pull_file_info('data_1.4cm_120mmHg.mca')\n",
    "pull_file_info('220mmHg_Argon_9.4cm.mca')"
   ]
  },
  {
   "cell_type": "code",
   "execution_count": null,
   "metadata": {},
   "outputs": [],
   "source": []
  }
 ],
 "metadata": {
  "kernelspec": {
   "display_name": "Python 3",
   "language": "python",
   "name": "python3"
  },
  "language_info": {
   "codemirror_mode": {
    "name": "ipython",
    "version": 3
   },
   "file_extension": ".py",
   "mimetype": "text/x-python",
   "name": "python",
   "nbconvert_exporter": "python",
   "pygments_lexer": "ipython3",
   "version": "3.6.4"
  }
 },
 "nbformat": 4,
 "nbformat_minor": 2
}
